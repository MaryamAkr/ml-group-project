{
 "cells": [
  {
   "cell_type": "code",
   "execution_count": 1,
   "metadata": {},
   "outputs": [],
   "source": [
    "import numpy as np\n",
    "import pandas as pd"
   ]
  },
  {
   "cell_type": "code",
   "execution_count": 2,
   "metadata": {},
   "outputs": [
    {
     "data": {
      "text/html": [
       "<div>\n",
       "<style scoped>\n",
       "    .dataframe tbody tr th:only-of-type {\n",
       "        vertical-align: middle;\n",
       "    }\n",
       "\n",
       "    .dataframe tbody tr th {\n",
       "        vertical-align: top;\n",
       "    }\n",
       "\n",
       "    .dataframe thead th {\n",
       "        text-align: right;\n",
       "    }\n",
       "</style>\n",
       "<table border=\"1\" class=\"dataframe\">\n",
       "  <thead>\n",
       "    <tr style=\"text-align: right;\">\n",
       "      <th></th>\n",
       "      <th>Unnamed: 0</th>\n",
       "      <th>accountNumber</th>\n",
       "      <th>acqCountry</th>\n",
       "      <th>availableMoney</th>\n",
       "      <th>cardCVV</th>\n",
       "      <th>cardLast4Digits</th>\n",
       "      <th>cardPresent</th>\n",
       "      <th>creditLimit</th>\n",
       "      <th>currentBalance</th>\n",
       "      <th>customerId</th>\n",
       "      <th>enteredCVV</th>\n",
       "      <th>expirationDateKeyInMatch</th>\n",
       "      <th>isFraud</th>\n",
       "      <th>merchantCategoryCode</th>\n",
       "      <th>merchantCountryCode</th>\n",
       "      <th>merchantName</th>\n",
       "      <th>posConditionCode</th>\n",
       "      <th>posEntryMode</th>\n",
       "      <th>transactionAmount</th>\n",
       "      <th>transactionType</th>\n",
       "    </tr>\n",
       "  </thead>\n",
       "  <tbody>\n",
       "    <tr>\n",
       "      <th>0</th>\n",
       "      <td>0</td>\n",
       "      <td>733493772</td>\n",
       "      <td>3</td>\n",
       "      <td>5000.00</td>\n",
       "      <td>492</td>\n",
       "      <td>9184</td>\n",
       "      <td>0</td>\n",
       "      <td>5000.0</td>\n",
       "      <td>0.00</td>\n",
       "      <td>733493772</td>\n",
       "      <td>492</td>\n",
       "      <td>0</td>\n",
       "      <td>0</td>\n",
       "      <td>17</td>\n",
       "      <td>3</td>\n",
       "      <td>1065</td>\n",
       "      <td>0</td>\n",
       "      <td>1</td>\n",
       "      <td>111.33</td>\n",
       "      <td>1</td>\n",
       "    </tr>\n",
       "    <tr>\n",
       "      <th>1</th>\n",
       "      <td>1</td>\n",
       "      <td>733493772</td>\n",
       "      <td>3</td>\n",
       "      <td>4888.67</td>\n",
       "      <td>492</td>\n",
       "      <td>9184</td>\n",
       "      <td>0</td>\n",
       "      <td>5000.0</td>\n",
       "      <td>111.33</td>\n",
       "      <td>733493772</td>\n",
       "      <td>492</td>\n",
       "      <td>0</td>\n",
       "      <td>1</td>\n",
       "      <td>17</td>\n",
       "      <td>3</td>\n",
       "      <td>2084</td>\n",
       "      <td>0</td>\n",
       "      <td>2</td>\n",
       "      <td>24.75</td>\n",
       "      <td>1</td>\n",
       "    </tr>\n",
       "    <tr>\n",
       "      <th>2</th>\n",
       "      <td>2</td>\n",
       "      <td>733493772</td>\n",
       "      <td>3</td>\n",
       "      <td>4863.92</td>\n",
       "      <td>492</td>\n",
       "      <td>9184</td>\n",
       "      <td>0</td>\n",
       "      <td>5000.0</td>\n",
       "      <td>136.08</td>\n",
       "      <td>733493772</td>\n",
       "      <td>492</td>\n",
       "      <td>0</td>\n",
       "      <td>1</td>\n",
       "      <td>17</td>\n",
       "      <td>3</td>\n",
       "      <td>1065</td>\n",
       "      <td>0</td>\n",
       "      <td>1</td>\n",
       "      <td>187.40</td>\n",
       "      <td>1</td>\n",
       "    </tr>\n",
       "    <tr>\n",
       "      <th>3</th>\n",
       "      <td>3</td>\n",
       "      <td>733493772</td>\n",
       "      <td>3</td>\n",
       "      <td>4676.52</td>\n",
       "      <td>492</td>\n",
       "      <td>9184</td>\n",
       "      <td>0</td>\n",
       "      <td>5000.0</td>\n",
       "      <td>323.48</td>\n",
       "      <td>733493772</td>\n",
       "      <td>492</td>\n",
       "      <td>0</td>\n",
       "      <td>0</td>\n",
       "      <td>17</td>\n",
       "      <td>3</td>\n",
       "      <td>1065</td>\n",
       "      <td>0</td>\n",
       "      <td>0</td>\n",
       "      <td>227.34</td>\n",
       "      <td>1</td>\n",
       "    </tr>\n",
       "    <tr>\n",
       "      <th>4</th>\n",
       "      <td>4</td>\n",
       "      <td>733493772</td>\n",
       "      <td>3</td>\n",
       "      <td>4449.18</td>\n",
       "      <td>492</td>\n",
       "      <td>9184</td>\n",
       "      <td>0</td>\n",
       "      <td>5000.0</td>\n",
       "      <td>550.82</td>\n",
       "      <td>733493772</td>\n",
       "      <td>492</td>\n",
       "      <td>0</td>\n",
       "      <td>1</td>\n",
       "      <td>17</td>\n",
       "      <td>3</td>\n",
       "      <td>1065</td>\n",
       "      <td>0</td>\n",
       "      <td>0</td>\n",
       "      <td>0.00</td>\n",
       "      <td>0</td>\n",
       "    </tr>\n",
       "  </tbody>\n",
       "</table>\n",
       "</div>"
      ],
      "text/plain": [
       "   Unnamed: 0  accountNumber  acqCountry  availableMoney  cardCVV  \\\n",
       "0           0      733493772           3         5000.00      492   \n",
       "1           1      733493772           3         4888.67      492   \n",
       "2           2      733493772           3         4863.92      492   \n",
       "3           3      733493772           3         4676.52      492   \n",
       "4           4      733493772           3         4449.18      492   \n",
       "\n",
       "   cardLast4Digits  cardPresent  creditLimit  currentBalance  customerId  \\\n",
       "0             9184            0       5000.0            0.00   733493772   \n",
       "1             9184            0       5000.0          111.33   733493772   \n",
       "2             9184            0       5000.0          136.08   733493772   \n",
       "3             9184            0       5000.0          323.48   733493772   \n",
       "4             9184            0       5000.0          550.82   733493772   \n",
       "\n",
       "   enteredCVV  expirationDateKeyInMatch  isFraud  merchantCategoryCode  \\\n",
       "0         492                         0        0                    17   \n",
       "1         492                         0        1                    17   \n",
       "2         492                         0        1                    17   \n",
       "3         492                         0        0                    17   \n",
       "4         492                         0        1                    17   \n",
       "\n",
       "   merchantCountryCode  merchantName  posConditionCode  posEntryMode  \\\n",
       "0                    3          1065                 0             1   \n",
       "1                    3          2084                 0             2   \n",
       "2                    3          1065                 0             1   \n",
       "3                    3          1065                 0             0   \n",
       "4                    3          1065                 0             0   \n",
       "\n",
       "   transactionAmount  transactionType  \n",
       "0             111.33                1  \n",
       "1              24.75                1  \n",
       "2             187.40                1  \n",
       "3             227.34                1  \n",
       "4               0.00                0  "
      ]
     },
     "execution_count": 2,
     "metadata": {},
     "output_type": "execute_result"
    }
   ],
   "source": [
    "df = pd.read_csv('../data/processed_transaction.csv')\n",
    "df.head()"
   ]
  },
  {
   "cell_type": "code",
   "execution_count": 3,
   "metadata": {},
   "outputs": [],
   "source": [
    "X, y = df.drop(['isFraud'],axis=1), df['isFraud']"
   ]
  },
  {
   "cell_type": "code",
   "execution_count": 8,
   "metadata": {},
   "outputs": [
    {
     "name": "stdout",
     "output_type": "stream",
     "text": [
      "Feature ranking:\n",
      "1. feature 17 (0.144404)\n",
      "2. feature 14 (0.139284)\n",
      "3. feature 0 (0.127545)\n",
      "4. feature 8 (0.123483)\n",
      "5. feature 3 (0.122744)\n",
      "6. feature 10 (0.045697)\n",
      "7. feature 5 (0.044313)\n",
      "8. feature 4 (0.042716)\n",
      "9. feature 1 (0.042467)\n",
      "10. feature 9 (0.042432)\n",
      "11. feature 16 (0.038631)\n",
      "12. feature 12 (0.031282)\n",
      "13. feature 7 (0.028409)\n",
      "14. feature 15 (0.013475)\n",
      "15. feature 18 (0.005823)\n",
      "16. feature 6 (0.003857)\n",
      "17. feature 13 (0.001509)\n",
      "18. feature 2 (0.001469)\n",
      "19. feature 11 (0.000462)\n"
     ]
    },
    {
     "data": {
      "image/png": "[encoded data removed]",
      "text/plain": [
       "<Figure size 432x288 with 1 Axes>"
      ]
     },
     "metadata": {},
     "output_type": "display_data"
    }
   ],
   "source": [
    "import matplotlib.pyplot as plt\n",
    "\n",
    "from sklearn.datasets import make_classification\n",
    "from sklearn.ensemble import ExtraTreesClassifier\n",
    "%matplotlib inline  \n",
    "\n",
    "# Build a forest and compute the feature importances\n",
    "forest = ExtraTreesClassifier(n_estimators=250,\n",
    "                              random_state=0)\n",
    "\n",
    "forest.fit(X, y)\n",
    "importances = forest.feature_importances_\n",
    "std = np.std([tree.feature_importances_ for tree in forest.estimators_],\n",
    "             axis=0)\n",
    "indices = np.argsort(importances)[::-1]\n",
    "\n",
    "# Print the feature ranking\n",
    "print(\"Feature ranking:\")\n",
    "\n",
    "for f in range(X.shape[1]):\n",
    "    print(\"%d. feature %d (%f)\" % (f + 1, indices[f], importances[indices[f]]))\n",
    "\n",
    "# Plot the feature importances of the forest\n",
    "plt.figure()\n",
    "plt.title(\"Feature importances\")\n",
    "plt.bar(range(X.shape[1]), importances[indices],\n",
    "       color=\"r\", yerr=std[indices], align=\"center\")\n",
    "plt.xticks(range(X.shape[1]), indices)\n",
    "plt.xlim([-1, X.shape[1]])\n",
    "plt.show()"
   ]
  },
  {
   "cell_type": "code",
   "execution_count": 17,
   "metadata": {},
   "outputs": [
    {
     "data": {
      "text/plain": [
       "(633846, 19)"
      ]
     },
     "execution_count": 17,
     "metadata": {},
     "output_type": "execute_result"
    }
   ],
   "source": [
    "X.shape"
   ]
  },
  {
   "cell_type": "markdown",
   "metadata": {},
   "source": [
    "Refernce code from \n",
    "\n",
    "https://scikit-learn.org/stable/auto_examples/ensemble/plot_forest_importances.html"
   ]
  },
  {
   "cell_type": "code",
   "execution_count": 16,
   "metadata": {},
   "outputs": [
    {
     "data": {
      "text/plain": [
       "array([0.12754479, 0.04246717, 0.00146892, 0.12274389, 0.04271621,\n",
       "       0.04431277, 0.00385703, 0.02840897, 0.1234832 , 0.04243238,\n",
       "       0.04569652, 0.00046192, 0.03128185, 0.00150867, 0.13928397,\n",
       "       0.01347464, 0.03863078, 0.14440371, 0.00582261])"
      ]
     },
     "execution_count": 16,
     "metadata": {},
     "output_type": "execute_result"
    }
   ],
   "source": [
    "importances"
   ]
  },
  {
   "cell_type": "code",
   "execution_count": 18,
   "metadata": {},
   "outputs": [
    {
     "data": {
      "text/plain": [
       "array([17, 14,  0,  8,  3, 10,  5,  4,  1,  9, 16, 12,  7, 15, 18,  6, 13,\n",
       "        2, 11])"
      ]
     },
     "execution_count": 18,
     "metadata": {},
     "output_type": "execute_result"
    }
   ],
   "source": [
    "indices"
   ]
  },
  {
   "cell_type": "code",
   "execution_count": 27,
   "metadata": {},
   "outputs": [
    {
     "data": {
      "text/plain": [
       "Index(['Unnamed: 0', 'accountNumber', 'acqCountry', 'availableMoney',\n",
       "       'cardCVV', 'cardLast4Digits', 'cardPresent', 'creditLimit',\n",
       "       'currentBalance', 'customerId', 'enteredCVV',\n",
       "       'expirationDateKeyInMatch', 'isFraud', 'merchantCategoryCode',\n",
       "       'merchantCountryCode', 'merchantName', 'posConditionCode',\n",
       "       'posEntryMode', 'transactionAmount', 'transactionType'],\n",
       "      dtype='object')"
      ]
     },
     "execution_count": 27,
     "metadata": {},
     "output_type": "execute_result"
    }
   ],
   "source": [
    "df.columns"
   ]
  },
  {
   "cell_type": "code",
   "execution_count": 26,
   "metadata": {},
   "outputs": [],
   "source": [
    "import csv\n",
    "with open('innovators.csv', 'w', newline='') as file:\n",
    "    writer = csv.writer(file)\n",
    "    for f in range(X.shape[1]):\n",
    "        writer.writerow([indices[f], X.columns[indices[f]], importances[indices[f]]])"
   ]
  },
  {
   "cell_type": "code",
   "execution_count": null,
   "metadata": {},
   "outputs": [],
   "source": []
  }
 ],
 "metadata": {
  "kernelspec": {
   "display_name": "Python 3",
   "language": "python",
   "name": "python3"
  },
  "language_info": {
   "codemirror_mode": {
    "name": "ipython",
    "version": 3
   },
   "file_extension": ".py",
   "mimetype": "text/x-python",
   "name": "python",
   "nbconvert_exporter": "python",
   "pygments_lexer": "ipython3",
   "version": "3.6.5"
  }
 },
 "nbformat": 4,
 "nbformat_minor": 2
}
